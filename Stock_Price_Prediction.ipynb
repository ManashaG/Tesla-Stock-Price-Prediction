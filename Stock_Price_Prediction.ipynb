{
  "nbformat": 4,
  "nbformat_minor": 0,
  "metadata": {
    "colab": {
      "name": "Stock_Price_Prediction.ipynb",
      "provenance": [],
      "collapsed_sections": [],
      "authorship_tag": "ABX9TyOpkoG37muGDogTe1Ef0GUq",
      "include_colab_link": true
    },
    "kernelspec": {
      "name": "python3",
      "display_name": "Python 3"
    },
    "language_info": {
      "name": "python"
    }
  },
  "cells": [
    {
      "cell_type": "markdown",
      "metadata": {
        "id": "view-in-github",
        "colab_type": "text"
      },
      "source": [
        "<a href=\"https://colab.research.google.com/github/ManashaG/Tesla-Stock-Price-Prediction/blob/main/Stock_Price_Prediction.ipynb\" target=\"_parent\"><img src=\"https://colab.research.google.com/assets/colab-badge.svg\" alt=\"Open In Colab\"/></a>"
      ]
    },
    {
      "cell_type": "code",
      "execution_count": null,
      "metadata": {
        "id": "SRR3eNeZ7V5o"
      },
      "outputs": [],
      "source": [
        "import pandas as pd \n",
        "import plotly.express as px\n",
        "from fbprophet import Prophet"
      ]
    },
    {
      "cell_type": "code",
      "source": [
        "import plotly.io as pio \n",
        "pio.renderers.default='colab'"
      ],
      "metadata": {
        "id": "rmJX0l_Z707r"
      },
      "execution_count": null,
      "outputs": []
    },
    {
      "cell_type": "code",
      "source": [
        "df=pd.read_csv(\"TSLA.csv\")"
      ],
      "metadata": {
        "id": "z5rZFSrB9ky1"
      },
      "execution_count": null,
      "outputs": []
    },
    {
      "cell_type": "code",
      "source": [
        "px.area(df,x=\"Date\",y=\"Close\")"
      ],
      "metadata": {
        "id": "lhBmuQ03-kE2"
      },
      "execution_count": null,
      "outputs": []
    },
    {
      "cell_type": "code",
      "source": [
        "px.line(df,x=\"Date\",y=\"Close\")"
      ],
      "metadata": {
        "id": "NbZSpPZ-_Q2m"
      },
      "execution_count": null,
      "outputs": []
    },
    {
      "cell_type": "code",
      "source": [
        "px.line(df,x=\"Date\",y=\"Volume\")"
      ],
      "metadata": {
        "id": "9RHTjj36_eAy"
      },
      "execution_count": null,
      "outputs": []
    },
    {
      "cell_type": "code",
      "source": [
        "px.area(df,x=\"Date\",y=\"Volume\")"
      ],
      "metadata": {
        "id": "CURMfc1X_mvI"
      },
      "execution_count": null,
      "outputs": []
    },
    {
      "cell_type": "code",
      "source": [
        "px.bar(df,y=\"Volume\")"
      ],
      "metadata": {
        "id": "IZdwABYg_t9m"
      },
      "execution_count": null,
      "outputs": []
    },
    {
      "cell_type": "code",
      "source": [
        "px.box(df,y=\"Close\")"
      ],
      "metadata": {
        "id": "d0AqPSNtAC3j"
      },
      "execution_count": null,
      "outputs": []
    },
    {
      "cell_type": "code",
      "source": [
        "columns=['Date','Close']\n",
        "ndf=pd.DataFrame(df,columns=columns)"
      ],
      "metadata": {
        "id": "vz4m9x-yBCAm"
      },
      "execution_count": null,
      "outputs": []
    },
    {
      "cell_type": "code",
      "source": [
        "ndf"
      ],
      "metadata": {
        "id": "z8uIJlzeBSCC"
      },
      "execution_count": null,
      "outputs": []
    },
    {
      "cell_type": "code",
      "source": [
        "prophet_df=ndf.rename(columns={\"Date\":\"ds\",\"Close\":\"y\"})"
      ],
      "metadata": {
        "id": "X56dhT9jBvJB"
      },
      "execution_count": null,
      "outputs": []
    },
    {
      "cell_type": "code",
      "source": [
        "prophet_df"
      ],
      "metadata": {
        "id": "X-KIOPPBCJBF"
      },
      "execution_count": null,
      "outputs": []
    },
    {
      "cell_type": "code",
      "source": [
        "m=Prophet()\n",
        "m.fit(prophet_df)"
      ],
      "metadata": {
        "id": "Zu8n5HYICY9f"
      },
      "execution_count": null,
      "outputs": []
    },
    {
      "cell_type": "code",
      "source": [
        "future=m.make_future_dataframe(periods=30)\n",
        "forecast=m.predict(future)"
      ],
      "metadata": {
        "id": "bkg_tcZvDMaz"
      },
      "execution_count": null,
      "outputs": []
    },
    {
      "cell_type": "code",
      "source": [
        "forecast"
      ],
      "metadata": {
        "id": "FJe85pcaDnwH"
      },
      "execution_count": null,
      "outputs": []
    },
    {
      "cell_type": "code",
      "source": [
        "px.line(forecast,x=\"ds\",y=\"yhat\")"
      ],
      "metadata": {
        "id": "GNzU8UbbDqNp"
      },
      "execution_count": null,
      "outputs": []
    },
    {
      "cell_type": "code",
      "source": [
        "figure=m.plot(forecast,xlabel=\"ds\",ylabel=\"y\")"
      ],
      "metadata": {
        "id": "y4wOUSuAEPTa"
      },
      "execution_count": null,
      "outputs": []
    },
    {
      "cell_type": "code",
      "source": [
        "figure2=m.plot_components(forecast)"
      ],
      "metadata": {
        "id": "FVx6jYm3ErPD"
      },
      "execution_count": null,
      "outputs": []
    },
    {
      "cell_type": "code",
      "source": [
        "from google.colab import files \n",
        "forecast.to_csv('forecast.csv')\n",
        "files.download('forecast.csv')"
      ],
      "metadata": {
        "id": "KZsMVRy5E2_a"
      },
      "execution_count": null,
      "outputs": []
    }
  ]
}